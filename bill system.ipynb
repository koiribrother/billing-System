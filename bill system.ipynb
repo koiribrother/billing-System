{
 "cells": [
  {
   "cell_type": "code",
   "execution_count": 1,
   "id": "56bac800",
   "metadata": {},
   "outputs": [
    {
     "name": "stdout",
     "output_type": "stream",
     "text": [
      " Please enter Number of Units you Consumed : 200\n",
      "\n",
      "Electricity Bill = 863.50\n"
     ]
    }
   ],
   "source": [
    "# Python Program to Calculate Electricity Bill\n",
    " \n",
    "units = int(input(\" Please enter Number of Units you Consumed : \"))\n",
    "\n",
    "if(units < 50):\n",
    "    amount = units * 2.60\n",
    "    surcharge = 25\n",
    "elif(units <= 100):\n",
    "    amount = 130 + ((units - 50) * 3.25)\n",
    "    surcharge = 35\n",
    "elif(units <= 200):\n",
    "    amount = 130 + 162.50 + ((units - 100) * 5.26)\n",
    "    surcharge = 45\n",
    "else:\n",
    "    amount = 130 + 162.50 + 526 + ((units - 200) * 8.45)\n",
    "    surcharge = 75\n",
    "\n",
    "total = amount + surcharge\n",
    "print(\"\\nElectricity Bill = %.2f\"  %total)"
   ]
  },
  {
   "cell_type": "code",
   "execution_count": 3,
   "id": "640f5134",
   "metadata": {},
   "outputs": [
    {
     "name": "stdout",
     "output_type": "stream",
     "text": [
      " Please enter Number of Units you Consumed : 200\n",
      "\n",
      "Electricity Bill = 1107.00\n"
     ]
    }
   ],
   "source": [
    "# Python Program to Calculate Electricity Bill\n",
    " \n",
    "units = int(input(\" Please enter Number of Units you Consumed : \"))\n",
    "\n",
    "if(units > 500):\n",
    "    amount = units * 9.65\n",
    "    surcharge = 85\n",
    "elif(units >= 300):\n",
    "    amount = units * 7.75\n",
    "    surcharge = 75\n",
    "elif(units >= 200):\n",
    "    amount = units * 5.26\n",
    "    surcharge = 55\n",
    "elif(units >= 100):\n",
    "    amount = units * 3.76\n",
    "    surcharge = 35\n",
    "else:\n",
    "    amount = units * 2.25\n",
    "    surcharge = 25\n",
    "\n",
    "total = amount + surcharge\n",
    "print(\"\\nElectricity Bill = %.2f\"  %total)"
   ]
  },
  {
   "cell_type": "code",
   "execution_count": null,
   "id": "52ad9d96",
   "metadata": {},
   "outputs": [],
   "source": []
  }
 ],
 "metadata": {
  "kernelspec": {
   "display_name": "Python 3 (ipykernel)",
   "language": "python",
   "name": "python3"
  },
  "language_info": {
   "codemirror_mode": {
    "name": "ipython",
    "version": 3
   },
   "file_extension": ".py",
   "mimetype": "text/x-python",
   "name": "python",
   "nbconvert_exporter": "python",
   "pygments_lexer": "ipython3",
   "version": "3.9.12"
  }
 },
 "nbformat": 4,
 "nbformat_minor": 5
}
